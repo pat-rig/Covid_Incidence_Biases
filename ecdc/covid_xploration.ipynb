{
 "cells": [
  {
   "cell_type": "markdown",
   "metadata": {},
   "source": [
    "# <u> Covid-19 ECDC-Data Exploration </u>"
   ]
  },
  {
   "cell_type": "code",
   "execution_count": 1,
   "metadata": {},
   "outputs": [],
   "source": [
    "import os\n",
    "import wget\n",
    "import pandas as pd\n",
    "import matplotlib.pyplot as plt"
   ]
  },
  {
   "cell_type": "markdown",
   "metadata": {},
   "source": [
    "## Download Most Recent and Load all Data Sets"
   ]
  },
  {
   "cell_type": "code",
   "execution_count": 2,
   "metadata": {},
   "outputs": [
    {
     "name": "stdout",
     "output_type": "stream",
     "text": [
      "rm: data/*: No such file or directory\r\n"
     ]
    }
   ],
   "source": [
    "# create data directory if it doesnt exist yet\n",
    "if not 'data' in os.listdir():\n",
    "    ! mkdir data\n",
    "\n",
    "data_dir = './data/'\n",
    "\n",
    "# clean data dir from old data (some sets are updated on a daily bases)\n",
    "! rm data/*\n",
    "\n",
    "\n",
    "# add urls to data file for new data sources here\n",
    "\n",
    "# From European Centre for Disease Prevention and Control:\n",
    "cases_deaths_url = 'https://opendata.ecdc.europa.eu/covid19/nationalcasedeath_eueea_daily_ei/csv/data.csv'\n",
    "hospitalization_url = 'https://opendata.ecdc.europa.eu/covid19/hospitalicuadmissionrates/csv/data.csv'\n",
    "tests_url = 'https://opendata.ecdc.europa.eu/covid19/testing/csv/data.csv'\n",
    "variants_url = 'https://opendata.ecdc.europa.eu/covid19/virusvariant/csv/data.csv'\n",
    "vaccinations_url = 'https://opendata.ecdc.europa.eu/covid19/vaccine_tracker/csv/data.csv'\n",
    "\n",
    "# add them to the dictionary and specify the desired file name\n",
    "download_dict = {'cases_deaths.csv': cases_deaths_url, 'hospitalizations.csv': hospitalization_url,\n",
    "                'tests.csv': tests_url, 'vaccinations.csv': vaccinations_url, 'variants.csv': variants_url}\n",
    "\n",
    "for dict_item in download_dict.items():\n",
    "    # download data file\n",
    "    wget.download(dict_item[1], data_dir + dict_item[0])\n",
    "    # load data frame named by filename\n",
    "    df_name = dict_item[0].split('.')[0]\n",
    "    globals()[df_name] = pd.read_csv(data_dir + str(dict_item[0])) # use string as variable name"
   ]
  },
  {
   "cell_type": "code",
   "execution_count": 3,
   "metadata": {
    "scrolled": true
   },
   "outputs": [
    {
     "name": "stdout",
     "output_type": "stream",
     "text": [
      "Loaded: \n",
      "\n",
      "cases_deaths.csv, with variables:\n",
      "\n",
      "['dateRep' 'day' 'month' 'year' 'cases' 'deaths' 'countriesAndTerritories'\n",
      " 'geoId' 'countryterritoryCode' 'popData2020' 'continentExp'] \n",
      " \n",
      "\n",
      "hospitalizations.csv, with variables:\n",
      "\n",
      "['country' 'indicator' 'date' 'year_week' 'value' 'source' 'url'] \n",
      " \n",
      "\n",
      "tests.csv, with variables:\n",
      "\n",
      "['country' 'country_code' 'year_week' 'level' 'region' 'region_name'\n",
      " 'new_cases' 'tests_done' 'population' 'testing_rate' 'positivity_rate'\n",
      " 'testing_data_source'] \n",
      " \n",
      "\n",
      "vaccinations.csv, with variables:\n",
      "\n",
      "['YearWeekISO' 'FirstDose' 'FirstDoseRefused' 'SecondDose' 'UnknownDose'\n",
      " 'NumberDosesReceived' 'Region' 'Population' 'ReportingCountry'\n",
      " 'TargetGroup' 'Vaccine' 'Denominator'] \n",
      " \n",
      "\n",
      "variants.csv, with variables:\n",
      "\n",
      "['country' 'country_code' 'year_week' 'source' 'new_cases'\n",
      " 'number_sequenced' 'percent_cases_sequenced' 'valid_denominator'\n",
      " 'variant' 'number_detections_variant' 'percent_variant'] \n",
      " \n",
      "\n"
     ]
    }
   ],
   "source": [
    "print('Loaded: \\n')\n",
    "for filename in download_dict.keys():\n",
    "    print(filename + ', with variables:' + '\\n')\n",
    "    print(globals()[filename.split('.')[0]].columns.values, '\\n \\n')"
   ]
  },
  {
   "cell_type": "markdown",
   "metadata": {},
   "source": [
    "## Overview over ECDPC Hospital Admission Data"
   ]
  },
  {
   "cell_type": "code",
   "execution_count": 5,
   "metadata": {},
   "outputs": [
    {
     "name": "stdout",
     "output_type": "stream",
     "text": [
      "\n",
      " \n",
      " More specifically, we have data on: \n",
      " ['Daily hospital occupancy' 'Daily ICU occupancy'\n",
      " 'Weekly new hospital admissions per 100k'\n",
      " 'Weekly new ICU admissions per 100k']\n",
      "<class 'pandas.core.frame.DataFrame'>\n",
      "Int64Index: 1100 entries, 5047 to 25612\n",
      "Data columns (total 7 columns):\n",
      " #   Column     Non-Null Count  Dtype  \n",
      "---  ------     --------------  -----  \n",
      " 0   country    1100 non-null   object \n",
      " 1   indicator  1100 non-null   object \n",
      " 2   date       1100 non-null   object \n",
      " 3   year_week  1100 non-null   object \n",
      " 4   value      1100 non-null   float64\n",
      " 5   source     1100 non-null   object \n",
      " 6   url        0 non-null      object \n",
      "dtypes: float64(1), object(6)\n",
      "memory usage: 68.8+ KB\n"
     ]
    }
   ],
   "source": [
    "hosp_indicators = hospitalizations.indicator.unique()\n",
    "print('\\n \\n More specifically, we have data on: \\n', hospitalizations.indicator.unique())\n",
    "\n",
    "# isolate weekly icu admissions per 100k\n",
    "hosp_by_indicator = hospitalizations.groupby('indicator')\n",
    "weekly_icu = hosp_by_indicator.get_group(hosp_indicators[-1])\n",
    "\n",
    "weekly_icu.info()\n",
    "# join weekly_icu with testing data set\n",
    "# weekly_icu.join(tests, on='year_week')"
   ]
  },
  {
   "cell_type": "code",
   "execution_count": 6,
   "metadata": {},
   "outputs": [
    {
     "name": "stdout",
     "output_type": "stream",
     "text": [
      "No. Countries Appearing in the Hospitalization Data Set: 30 \n",
      " \n",
      " ['Austria' 'Belgium' 'Bulgaria' 'Croatia' 'Cyprus' 'Czechia' 'Denmark'\n",
      " 'Estonia' 'Finland' 'France' 'Germany' 'Greece' 'Hungary' 'Iceland'\n",
      " 'Ireland' 'Italy' 'Latvia' 'Liechtenstein' 'Lithuania' 'Luxembourg'\n",
      " 'Malta' 'Netherlands' 'Norway' 'Poland' 'Portugal' 'Romania' 'Slovakia'\n",
      " 'Slovenia' 'Spain' 'Sweden']\n",
      "\n",
      " \n",
      " No. Countries with weekly ICU admission Data: 15 \n",
      " \n",
      " ['Cyprus' 'Czechia' 'Estonia' 'France' 'Greece' 'Iceland' 'Ireland'\n",
      " 'Latvia' 'Lithuania' 'Netherlands' 'Norway' 'Slovakia' 'Slovenia' 'Spain'\n",
      " 'Sweden']\n"
     ]
    }
   ],
   "source": [
    "# ICU-Data for how many and which countries?\n",
    "countries = hospitalizations.country.unique()\n",
    "icu_countries = weekly_icu.country.unique()\n",
    "print('No. Countries Appearing in the Hospitalization Data Set:', len(countries), '\\n \\n', countries)\n",
    "print('\\n \\n No. Countries with weekly ICU admission Data:', len(icu_countries), '\\n \\n', icu_countries)"
   ]
  },
  {
   "cell_type": "markdown",
   "metadata": {},
   "source": [
    "## Use Our World in Data Data Set Instead. It encompasses a wider range of variables."
   ]
  }
 ],
 "metadata": {
  "kernelspec": {
   "display_name": "nb",
   "language": "python",
   "name": "nb"
  },
  "language_info": {
   "codemirror_mode": {
    "name": "ipython",
    "version": 3
   },
   "file_extension": ".py",
   "mimetype": "text/x-python",
   "name": "python",
   "nbconvert_exporter": "python",
   "pygments_lexer": "ipython3",
   "version": "3.9.5"
  }
 },
 "nbformat": 4,
 "nbformat_minor": 5
}
