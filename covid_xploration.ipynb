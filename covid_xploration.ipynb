{
 "cells": [
  {
   "cell_type": "markdown",
   "id": "8fce0102",
   "metadata": {},
   "source": [
    "# <u> Covid-19 Data Exploration </u>"
   ]
  },
  {
   "cell_type": "markdown",
   "id": "f71e7423",
   "metadata": {},
   "source": [
    "## <u> Objective: </u> \n",
    "### Assess the Quality of the *Case Numbers* Statistic to control response measures.\n",
    "Define the ultimate goal of response measures to prevent hospital capacities from maxing out.\\\n",
    "Thus, investigate whether there exist scenarios in which an increase in the hospital admissions was not indicated\n",
    "by an increase in case numbers.\n",
    "Furthermore, investigate beahviour of hospital admissions and deaths after substantial increase in testing."
   ]
  },
  {
   "cell_type": "markdown",
   "id": "8108d7da",
   "metadata": {},
   "source": [
    "## <u> Method: </u>\n",
    "1. Get an Overview over Hospital Admission Data\n",
    "2. Correlate Case Number Data with Testing Strategy\n",
    "3. Combine Observations from (1) and (2)"
   ]
  },
  {
   "cell_type": "code",
   "execution_count": 1,
   "id": "88bd417b",
   "metadata": {},
   "outputs": [],
   "source": [
    "import os\n",
    "import wget\n",
    "import pandas as pd\n",
    "import matplotlib.pyplot as plt"
   ]
  },
  {
   "cell_type": "markdown",
   "id": "ca365b0f",
   "metadata": {},
   "source": [
    "## Download and Load all Data Sets"
   ]
  },
  {
   "cell_type": "code",
   "execution_count": null,
   "id": "62af49e9",
   "metadata": {},
   "outputs": [],
   "source": [
    "# create data directory if it doesnt exist yet\n",
    "if not 'data' in os.listdir():\n",
    "    ! mkdir data\n",
    "\n",
    "data_dir = './data/'\n",
    "# clean data dir from old data (some sets are updated on a daily bases)\n",
    "! rm data/*\n",
    "\n",
    "\n",
    "# add urls to data file for new data sources here\n",
    "\n",
    "# From European Centre for Disease Prevention and Control:\n",
    "cases_deaths_url = 'https://opendata.ecdc.europa.eu/covid19/nationalcasedeath_eueea_daily_ei/csv/data.csv'\n",
    "hospitalization_url = 'https://opendata.ecdc.europa.eu/covid19/hospitalicuadmissionrates/csv/data.csv'\n",
    "tests_url = 'https://opendata.ecdc.europa.eu/covid19/testing/csv/data.csv'\n",
    "variants_url = 'https://opendata.ecdc.europa.eu/covid19/virusvariant/csv/data.csv'\n",
    "vaccinations_url = 'https://opendata.ecdc.europa.eu/covid19/vaccine_tracker/csv/data.csv'\n",
    "\n",
    "# add them to the dictionary and specify the desired file name\n",
    "download_dict = {'cases_deaths.csv': cases_deaths_url, 'hospitalizations.csv': hospitalization_url,\n",
    "                'tests': tests_url, 'vaccinations': vaccinations_url, 'variants': variants_url}\n",
    "\n",
    "for dict_item in download_dict.items():\n",
    "    # download data file\n",
    "    wget.download(dict_item[1], data_dir + dict_item[0])\n",
    "    # load data frame named by filename\n",
    "    df_name = dict_item[0].split('.')[0]\n",
    "    globals()[df_name] = pd.read_csv(data_dir + str(dict_item[0])) # use string as variable name"
   ]
  },
  {
   "cell_type": "code",
   "execution_count": 3,
   "id": "79367467",
   "metadata": {
    "scrolled": true
   },
   "outputs": [
    {
     "name": "stdout",
     "output_type": "stream",
     "text": [
      "Loaded: \n",
      "\n",
      "cases_deaths.csv, with variables:\n",
      "\n",
      "['dateRep' 'day' 'month' 'year' 'cases' 'deaths' 'countriesAndTerritories'\n",
      " 'geoId' 'countryterritoryCode' 'popData2020' 'continentExp'] \n",
      " \n",
      "\n",
      "hospitalizations.csv, with variables:\n",
      "\n",
      "['country' 'indicator' 'date' 'year_week' 'value' 'source' 'url'] \n",
      " \n",
      "\n",
      "tests, with variables:\n",
      "\n",
      "['country' 'country_code' 'year_week' 'level' 'region' 'region_name'\n",
      " 'new_cases' 'tests_done' 'population' 'testing_rate' 'positivity_rate'\n",
      " 'testing_data_source'] \n",
      " \n",
      "\n",
      "vaccinations, with variables:\n",
      "\n",
      "['YearWeekISO' 'FirstDose' 'FirstDoseRefused' 'SecondDose' 'UnknownDose'\n",
      " 'NumberDosesReceived' 'Region' 'Population' 'ReportingCountry'\n",
      " 'TargetGroup' 'Vaccine' 'Denominator'] \n",
      " \n",
      "\n",
      "variants, with variables:\n",
      "\n",
      "['country' 'country_code' 'year_week' 'source' 'new_cases'\n",
      " 'number_sequenced' 'percent_cases_sequenced' 'valid_denominator'\n",
      " 'variant' 'number_detections_variant' 'percent_variant'] \n",
      " \n",
      "\n"
     ]
    }
   ],
   "source": [
    "print('Loaded: \\n')\n",
    "for filename in download_dict.keys():\n",
    "    print(filename + ', with variables:' + '\\n')\n",
    "    print(globals()[filename.split('.')[0]].columns.values, '\\n \\n')"
   ]
  },
  {
   "cell_type": "code",
   "execution_count": null,
   "id": "67dc6650",
   "metadata": {},
   "outputs": [],
   "source": []
  }
 ],
 "metadata": {
  "kernelspec": {
   "display_name": "nb",
   "language": "python",
   "name": "nb"
  },
  "language_info": {
   "codemirror_mode": {
    "name": "ipython",
    "version": 3
   },
   "file_extension": ".py",
   "mimetype": "text/x-python",
   "name": "python",
   "nbconvert_exporter": "python",
   "pygments_lexer": "ipython3",
   "version": "3.9.5"
  }
 },
 "nbformat": 4,
 "nbformat_minor": 5
}
