{
 "cells": [
  {
   "cell_type": "markdown",
   "id": "8fce0102",
   "metadata": {},
   "source": [
    "# <u> Covid-19 Data Exploration </u>"
   ]
  },
  {
   "cell_type": "markdown",
   "id": "f71e7423",
   "metadata": {},
   "source": [
    "## <u> Objective: </u> \n",
    "### Assess the Quality of the *Case Numbers* Statistic to control response measures.\n",
    "Define the ultimate goal of response measures to prevent hospital capacities from maxing out.\\\n",
    "Thus, investigate whether there exist scenarios in which an increase in the hospital admissions was not indicated\n",
    "by an increase in case numbers.\n",
    "Furthermore, investigate beahviour of hospital admissions and deaths after substantial increase in testing."
   ]
  },
  {
   "cell_type": "markdown",
   "id": "8108d7da",
   "metadata": {},
   "source": [
    "## <u> Method: </u>\n",
    "1. Get an Overview over Hospital Admission Data\n",
    "2. Correlate Case Number Data with Testing Strategy\n",
    "3. Combine Observations from (1) and (2)"
   ]
  },
  {
   "cell_type": "code",
   "execution_count": 3,
   "id": "88bd417b",
   "metadata": {},
   "outputs": [],
   "source": [
    "import os\n",
    "import wget\n",
    "import pandas as pd\n",
    "import matplotlib.pyplot as plt"
   ]
  },
  {
   "cell_type": "markdown",
   "id": "1ad22c2e",
   "metadata": {},
   "source": [
    "## Download and Load all Data Sets"
   ]
  },
  {
   "cell_type": "code",
   "execution_count": 4,
   "id": "62af49e9",
   "metadata": {},
   "outputs": [],
   "source": [
    "# create data directory if it doesnt exist yet\n",
    "if not 'data' in os.listdir():\n",
    "    ! mkdir data\n",
    "\n",
    "data_dir = './data/'\n",
    "\n",
    "# clean data dir from old data (some sets are updated on a daily bases)\n",
    "! rm data/*\n",
    "\n",
    "\n",
    "# add urls to data file for new data sources here\n",
    "\n",
    "# From European Centre for Disease Prevention and Control:\n",
    "cases_deaths_url = 'https://opendata.ecdc.europa.eu/covid19/nationalcasedeath_eueea_daily_ei/csv/data.csv'\n",
    "hospitalization_url = 'https://opendata.ecdc.europa.eu/covid19/hospitalicuadmissionrates/csv/data.csv'\n",
    "tests_url = 'https://opendata.ecdc.europa.eu/covid19/testing/csv/data.csv'\n",
    "variants_url = 'https://opendata.ecdc.europa.eu/covid19/virusvariant/csv/data.csv'\n",
    "vaccinations_url = 'https://opendata.ecdc.europa.eu/covid19/vaccine_tracker/csv/data.csv'\n",
    "\n",
    "# add them to the dictionary and specify the desired file name\n",
    "download_dict = {'cases_deaths.csv': cases_deaths_url, 'hospitalizations.csv': hospitalization_url,\n",
    "                'tests': tests_url, 'vaccinations': vaccinations_url, 'variants': variants_url}\n",
    "\n",
    "for dict_item in download_dict.items():\n",
    "    # download data file\n",
    "    wget.download(dict_item[1], data_dir + dict_item[0])\n",
    "    # load data frame named by filename\n",
    "    df_name = dict_item[0].split('.')[0]\n",
    "    globals()[df_name] = pd.read_csv(data_dir + str(dict_item[0])) # use string as variable name"
   ]
  },
  {
   "cell_type": "code",
   "execution_count": 3,
   "id": "9702b8eb",
   "metadata": {
    "scrolled": true
   },
   "outputs": [
    {
     "name": "stdout",
     "output_type": "stream",
     "text": [
      "Loaded: \n",
      "\n",
      "cases_deaths.csv, with variables:\n",
      "\n",
      "['dateRep' 'day' 'month' 'year' 'cases' 'deaths' 'countriesAndTerritories'\n",
      " 'geoId' 'countryterritoryCode' 'popData2020' 'continentExp'] \n",
      " \n",
      "\n",
      "hospitalizations.csv, with variables:\n",
      "\n",
      "['country' 'indicator' 'date' 'year_week' 'value' 'source' 'url'] \n",
      " \n",
      "\n",
      "tests, with variables:\n",
      "\n",
      "['country' 'country_code' 'year_week' 'level' 'region' 'region_name'\n",
      " 'new_cases' 'tests_done' 'population' 'testing_rate' 'positivity_rate'\n",
      " 'testing_data_source'] \n",
      " \n",
      "\n",
      "vaccinations, with variables:\n",
      "\n",
      "['YearWeekISO' 'FirstDose' 'FirstDoseRefused' 'SecondDose' 'UnknownDose'\n",
      " 'NumberDosesReceived' 'Region' 'Population' 'ReportingCountry'\n",
      " 'TargetGroup' 'Vaccine' 'Denominator'] \n",
      " \n",
      "\n",
      "variants, with variables:\n",
      "\n",
      "['country' 'country_code' 'year_week' 'source' 'new_cases'\n",
      " 'number_sequenced' 'percent_cases_sequenced' 'valid_denominator'\n",
      " 'variant' 'number_detections_variant' 'percent_variant'] \n",
      " \n",
      "\n"
     ]
    }
   ],
   "source": [
    "print('Loaded: \\n')\n",
    "for filename in download_dict.keys():\n",
    "    print(filename + ', with variables:' + '\\n')\n",
    "    print(globals()[filename.split('.')[0]].columns.values, '\\n \\n')"
   ]
  },
  {
   "cell_type": "markdown",
   "id": "5a61c865",
   "metadata": {},
   "source": [
    "## Overview over ECDPC Hospital Admission Data"
   ]
  },
  {
   "cell_type": "code",
   "execution_count": 72,
   "id": "27c5518c",
   "metadata": {},
   "outputs": [
    {
     "name": "stdout",
     "output_type": "stream",
     "text": [
      "<class 'pandas.core.frame.DataFrame'>\n",
      "RangeIndex: 20530 entries, 0 to 20529\n",
      "Data columns (total 7 columns):\n",
      " #   Column     Non-Null Count  Dtype  \n",
      "---  ------     --------------  -----  \n",
      " 0   country    20530 non-null  object \n",
      " 1   indicator  20530 non-null  object \n",
      " 2   date       20530 non-null  object \n",
      " 3   year_week  20530 non-null  object \n",
      " 4   value      20530 non-null  float64\n",
      " 5   source     20530 non-null  object \n",
      " 6   url        18385 non-null  object \n",
      "dtypes: float64(1), object(6)\n",
      "memory usage: 1.1+ MB\n",
      "\n",
      " \n",
      " More specifically, we have data on: \n",
      " ['Daily hospital occupancy' 'Daily ICU occupancy'\n",
      " 'Weekly new hospital admissions per 100k'\n",
      " 'Weekly new ICU admissions per 100k']\n"
     ]
    },
    {
     "ename": "ValueError",
     "evalue": "You are trying to merge on object and int64 columns. If you wish to proceed you should use pd.concat",
     "output_type": "error",
     "traceback": [
      "\u001b[0;31m---------------------------------------------------------------------------\u001b[0m",
      "\u001b[0;31mValueError\u001b[0m                                Traceback (most recent call last)",
      "\u001b[0;32m<ipython-input-72-9c9e5bf27d6a>\u001b[0m in \u001b[0;36m<module>\u001b[0;34m\u001b[0m\n\u001b[1;32m      8\u001b[0m \u001b[0;34m\u001b[0m\u001b[0m\n\u001b[1;32m      9\u001b[0m \u001b[0;31m# join weekly_icu with testing data set\u001b[0m\u001b[0;34m\u001b[0m\u001b[0;34m\u001b[0m\u001b[0;34m\u001b[0m\u001b[0m\n\u001b[0;32m---> 10\u001b[0;31m \u001b[0mweekly_icu\u001b[0m\u001b[0;34m.\u001b[0m\u001b[0mjoin\u001b[0m\u001b[0;34m(\u001b[0m\u001b[0mtests\u001b[0m\u001b[0;34m,\u001b[0m \u001b[0mon\u001b[0m\u001b[0;34m=\u001b[0m\u001b[0;34m'year_week'\u001b[0m\u001b[0;34m)\u001b[0m\u001b[0;34m\u001b[0m\u001b[0;34m\u001b[0m\u001b[0m\n\u001b[0m",
      "\u001b[0;32m/opt/miniconda3/envs/nb/lib/python3.9/site-packages/pandas/core/frame.py\u001b[0m in \u001b[0;36mjoin\u001b[0;34m(self, other, on, how, lsuffix, rsuffix, sort)\u001b[0m\n\u001b[1;32m   8108\u001b[0m         \u001b[0;36m5\u001b[0m  \u001b[0mK5\u001b[0m  \u001b[0mA5\u001b[0m  \u001b[0mNaN\u001b[0m\u001b[0;34m\u001b[0m\u001b[0;34m\u001b[0m\u001b[0m\n\u001b[1;32m   8109\u001b[0m         \"\"\"\n\u001b[0;32m-> 8110\u001b[0;31m         return self._join_compat(\n\u001b[0m\u001b[1;32m   8111\u001b[0m             \u001b[0mother\u001b[0m\u001b[0;34m,\u001b[0m \u001b[0mon\u001b[0m\u001b[0;34m=\u001b[0m\u001b[0mon\u001b[0m\u001b[0;34m,\u001b[0m \u001b[0mhow\u001b[0m\u001b[0;34m=\u001b[0m\u001b[0mhow\u001b[0m\u001b[0;34m,\u001b[0m \u001b[0mlsuffix\u001b[0m\u001b[0;34m=\u001b[0m\u001b[0mlsuffix\u001b[0m\u001b[0;34m,\u001b[0m \u001b[0mrsuffix\u001b[0m\u001b[0;34m=\u001b[0m\u001b[0mrsuffix\u001b[0m\u001b[0;34m,\u001b[0m \u001b[0msort\u001b[0m\u001b[0;34m=\u001b[0m\u001b[0msort\u001b[0m\u001b[0;34m\u001b[0m\u001b[0;34m\u001b[0m\u001b[0m\n\u001b[1;32m   8112\u001b[0m         )\n",
      "\u001b[0;32m/opt/miniconda3/envs/nb/lib/python3.9/site-packages/pandas/core/frame.py\u001b[0m in \u001b[0;36m_join_compat\u001b[0;34m(self, other, on, how, lsuffix, rsuffix, sort)\u001b[0m\n\u001b[1;32m   8133\u001b[0m                     \u001b[0msort\u001b[0m\u001b[0;34m=\u001b[0m\u001b[0msort\u001b[0m\u001b[0;34m,\u001b[0m\u001b[0;34m\u001b[0m\u001b[0;34m\u001b[0m\u001b[0m\n\u001b[1;32m   8134\u001b[0m                 )\n\u001b[0;32m-> 8135\u001b[0;31m             return merge(\n\u001b[0m\u001b[1;32m   8136\u001b[0m                 \u001b[0mself\u001b[0m\u001b[0;34m,\u001b[0m\u001b[0;34m\u001b[0m\u001b[0;34m\u001b[0m\u001b[0m\n\u001b[1;32m   8137\u001b[0m                 \u001b[0mother\u001b[0m\u001b[0;34m,\u001b[0m\u001b[0;34m\u001b[0m\u001b[0;34m\u001b[0m\u001b[0m\n",
      "\u001b[0;32m/opt/miniconda3/envs/nb/lib/python3.9/site-packages/pandas/core/reshape/merge.py\u001b[0m in \u001b[0;36mmerge\u001b[0;34m(left, right, how, on, left_on, right_on, left_index, right_index, sort, suffixes, copy, indicator, validate)\u001b[0m\n\u001b[1;32m     72\u001b[0m     \u001b[0mvalidate\u001b[0m\u001b[0;34m=\u001b[0m\u001b[0;32mNone\u001b[0m\u001b[0;34m,\u001b[0m\u001b[0;34m\u001b[0m\u001b[0;34m\u001b[0m\u001b[0m\n\u001b[1;32m     73\u001b[0m ) -> \"DataFrame\":\n\u001b[0;32m---> 74\u001b[0;31m     op = _MergeOperation(\n\u001b[0m\u001b[1;32m     75\u001b[0m         \u001b[0mleft\u001b[0m\u001b[0;34m,\u001b[0m\u001b[0;34m\u001b[0m\u001b[0;34m\u001b[0m\u001b[0m\n\u001b[1;32m     76\u001b[0m         \u001b[0mright\u001b[0m\u001b[0;34m,\u001b[0m\u001b[0;34m\u001b[0m\u001b[0;34m\u001b[0m\u001b[0m\n",
      "\u001b[0;32m/opt/miniconda3/envs/nb/lib/python3.9/site-packages/pandas/core/reshape/merge.py\u001b[0m in \u001b[0;36m__init__\u001b[0;34m(self, left, right, how, on, left_on, right_on, axis, left_index, right_index, sort, suffixes, copy, indicator, validate)\u001b[0m\n\u001b[1;32m    670\u001b[0m         \u001b[0;31m# validate the merge keys dtypes. We may need to coerce\u001b[0m\u001b[0;34m\u001b[0m\u001b[0;34m\u001b[0m\u001b[0;34m\u001b[0m\u001b[0m\n\u001b[1;32m    671\u001b[0m         \u001b[0;31m# to avoid incompatible dtypes\u001b[0m\u001b[0;34m\u001b[0m\u001b[0;34m\u001b[0m\u001b[0;34m\u001b[0m\u001b[0m\n\u001b[0;32m--> 672\u001b[0;31m         \u001b[0mself\u001b[0m\u001b[0;34m.\u001b[0m\u001b[0m_maybe_coerce_merge_keys\u001b[0m\u001b[0;34m(\u001b[0m\u001b[0;34m)\u001b[0m\u001b[0;34m\u001b[0m\u001b[0;34m\u001b[0m\u001b[0m\n\u001b[0m\u001b[1;32m    673\u001b[0m \u001b[0;34m\u001b[0m\u001b[0m\n\u001b[1;32m    674\u001b[0m         \u001b[0;31m# If argument passed to validate,\u001b[0m\u001b[0;34m\u001b[0m\u001b[0;34m\u001b[0m\u001b[0;34m\u001b[0m\u001b[0m\n",
      "\u001b[0;32m/opt/miniconda3/envs/nb/lib/python3.9/site-packages/pandas/core/reshape/merge.py\u001b[0m in \u001b[0;36m_maybe_coerce_merge_keys\u001b[0;34m(self)\u001b[0m\n\u001b[1;32m   1191\u001b[0m                     \u001b[0minferred_right\u001b[0m \u001b[0;32min\u001b[0m \u001b[0mstring_types\u001b[0m \u001b[0;32mand\u001b[0m \u001b[0minferred_left\u001b[0m \u001b[0;32mnot\u001b[0m \u001b[0;32min\u001b[0m \u001b[0mstring_types\u001b[0m\u001b[0;34m\u001b[0m\u001b[0;34m\u001b[0m\u001b[0m\n\u001b[1;32m   1192\u001b[0m                 ):\n\u001b[0;32m-> 1193\u001b[0;31m                     \u001b[0;32mraise\u001b[0m \u001b[0mValueError\u001b[0m\u001b[0;34m(\u001b[0m\u001b[0mmsg\u001b[0m\u001b[0;34m)\u001b[0m\u001b[0;34m\u001b[0m\u001b[0;34m\u001b[0m\u001b[0m\n\u001b[0m\u001b[1;32m   1194\u001b[0m \u001b[0;34m\u001b[0m\u001b[0m\n\u001b[1;32m   1195\u001b[0m             \u001b[0;31m# datetimelikes must match exactly\u001b[0m\u001b[0;34m\u001b[0m\u001b[0;34m\u001b[0m\u001b[0;34m\u001b[0m\u001b[0m\n",
      "\u001b[0;31mValueError\u001b[0m: You are trying to merge on object and int64 columns. If you wish to proceed you should use pd.concat"
     ]
    }
   ],
   "source": [
    "hospitalizations.info()\n",
    "hosp_indicators = hospitalizations.indicator.unique()\n",
    "print('\\n \\n More specifically, we have data on: \\n', hospitalizations.indicator.unique())\n",
    "\n",
    "# isolate weekly icu admissions per 100k\n",
    "hosp_by_indicator = hospitalizations.groupby('indicator')\n",
    "weekly_icu = hosp_by_indicator.get_group(hosp_indicators[-1])\n",
    "\n",
    "# join weekly_icu with testing data set\n",
    "weekly_icu.join(tests, on='year_week')"
   ]
  },
  {
   "cell_type": "code",
   "execution_count": 61,
   "id": "16849de5",
   "metadata": {},
   "outputs": [
    {
     "name": "stdout",
     "output_type": "stream",
     "text": [
      "No. Countries Appearing in the Data Set: 29 \n",
      " \n",
      " ['Austria' 'Belgium' 'Bulgaria' 'Croatia' 'Cyprus' 'Czechia' 'Denmark'\n",
      " 'Estonia' 'Finland' 'France' 'Germany' 'Greece' 'Hungary' 'Iceland'\n",
      " 'Ireland' 'Italy' 'Latvia' 'Lithuania' 'Luxembourg' 'Malta' 'Netherlands'\n",
      " 'Norway' 'Poland' 'Portugal' 'Romania' 'Slovakia' 'Slovenia' 'Spain'\n",
      " 'Sweden']\n",
      "\n",
      " \n",
      " No. Countries with weekly ICU admission Data: 14 \n",
      " \n",
      " ['Cyprus' 'Czechia' 'Estonia' 'France' 'Greece' 'Ireland' 'Latvia'\n",
      " 'Lithuania' 'Malta' 'Netherlands' 'Norway' 'Slovenia' 'Spain' 'Sweden']\n"
     ]
    }
   ],
   "source": [
    "# how many and which countries?\n",
    "countries = hospitalizations.country.unique()\n",
    "icu_countries = weekly_icu.country.unique()\n",
    "print('No. Countries Appearing in the Data Set:', len(countries), '\\n \\n', countries)\n",
    "print('\\n \\n No. Countries with weekly ICU admission Data:', len(icu_countries), '\\n \\n', icu_countries)"
   ]
  },
  {
   "cell_type": "code",
   "execution_count": 70,
   "id": "6cbe036a",
   "metadata": {},
   "outputs": [
    {
     "data": {
      "text/html": [
       "<div>\n",
       "<style scoped>\n",
       "    .dataframe tbody tr th:only-of-type {\n",
       "        vertical-align: middle;\n",
       "    }\n",
       "\n",
       "    .dataframe tbody tr th {\n",
       "        vertical-align: top;\n",
       "    }\n",
       "\n",
       "    .dataframe thead th {\n",
       "        text-align: right;\n",
       "    }\n",
       "</style>\n",
       "<table border=\"1\" class=\"dataframe\">\n",
       "  <thead>\n",
       "    <tr style=\"text-align: right;\">\n",
       "      <th></th>\n",
       "      <th>country</th>\n",
       "      <th>country_code</th>\n",
       "      <th>year_week</th>\n",
       "      <th>level</th>\n",
       "      <th>region</th>\n",
       "      <th>region_name</th>\n",
       "      <th>new_cases</th>\n",
       "      <th>tests_done</th>\n",
       "      <th>population</th>\n",
       "      <th>testing_rate</th>\n",
       "      <th>positivity_rate</th>\n",
       "      <th>testing_data_source</th>\n",
       "    </tr>\n",
       "  </thead>\n",
       "  <tbody>\n",
       "    <tr>\n",
       "      <th>0</th>\n",
       "      <td>Austria</td>\n",
       "      <td>AT</td>\n",
       "      <td>2020-W18</td>\n",
       "      <td>national</td>\n",
       "      <td>AT</td>\n",
       "      <td>Austria</td>\n",
       "      <td>349.0</td>\n",
       "      <td>17956</td>\n",
       "      <td>8901064.0</td>\n",
       "      <td>201.728692</td>\n",
       "      <td>1.943640</td>\n",
       "      <td>Country website</td>\n",
       "    </tr>\n",
       "    <tr>\n",
       "      <th>1</th>\n",
       "      <td>Austria</td>\n",
       "      <td>AT</td>\n",
       "      <td>2020-W19</td>\n",
       "      <td>national</td>\n",
       "      <td>AT</td>\n",
       "      <td>Austria</td>\n",
       "      <td>249.0</td>\n",
       "      <td>42153</td>\n",
       "      <td>8901064.0</td>\n",
       "      <td>473.572598</td>\n",
       "      <td>0.590705</td>\n",
       "      <td>Country website</td>\n",
       "    </tr>\n",
       "    <tr>\n",
       "      <th>2</th>\n",
       "      <td>Austria</td>\n",
       "      <td>AT</td>\n",
       "      <td>2020-W20</td>\n",
       "      <td>national</td>\n",
       "      <td>AT</td>\n",
       "      <td>Austria</td>\n",
       "      <td>367.0</td>\n",
       "      <td>46001</td>\n",
       "      <td>8901064.0</td>\n",
       "      <td>516.803384</td>\n",
       "      <td>0.797809</td>\n",
       "      <td>Country website</td>\n",
       "    </tr>\n",
       "    <tr>\n",
       "      <th>3</th>\n",
       "      <td>Austria</td>\n",
       "      <td>AT</td>\n",
       "      <td>2020-W21</td>\n",
       "      <td>national</td>\n",
       "      <td>AT</td>\n",
       "      <td>Austria</td>\n",
       "      <td>285.0</td>\n",
       "      <td>39348</td>\n",
       "      <td>8901064.0</td>\n",
       "      <td>442.059511</td>\n",
       "      <td>0.724306</td>\n",
       "      <td>Country website</td>\n",
       "    </tr>\n",
       "    <tr>\n",
       "      <th>4</th>\n",
       "      <td>Austria</td>\n",
       "      <td>AT</td>\n",
       "      <td>2020-W22</td>\n",
       "      <td>national</td>\n",
       "      <td>AT</td>\n",
       "      <td>Austria</td>\n",
       "      <td>203.0</td>\n",
       "      <td>46677</td>\n",
       "      <td>8901064.0</td>\n",
       "      <td>524.397982</td>\n",
       "      <td>0.434904</td>\n",
       "      <td>Country website</td>\n",
       "    </tr>\n",
       "  </tbody>\n",
       "</table>\n",
       "</div>"
      ],
      "text/plain": [
       "   country country_code year_week     level region region_name  new_cases  \\\n",
       "0  Austria           AT  2020-W18  national     AT     Austria      349.0   \n",
       "1  Austria           AT  2020-W19  national     AT     Austria      249.0   \n",
       "2  Austria           AT  2020-W20  national     AT     Austria      367.0   \n",
       "3  Austria           AT  2020-W21  national     AT     Austria      285.0   \n",
       "4  Austria           AT  2020-W22  national     AT     Austria      203.0   \n",
       "\n",
       "   tests_done  population  testing_rate  positivity_rate testing_data_source  \n",
       "0       17956   8901064.0    201.728692         1.943640     Country website  \n",
       "1       42153   8901064.0    473.572598         0.590705     Country website  \n",
       "2       46001   8901064.0    516.803384         0.797809     Country website  \n",
       "3       39348   8901064.0    442.059511         0.724306     Country website  \n",
       "4       46677   8901064.0    524.397982         0.434904     Country website  "
      ]
     },
     "execution_count": 70,
     "metadata": {},
     "output_type": "execute_result"
    }
   ],
   "source": [
    "# Visualize weekly ICU admissions per 100k for all countries with new_cases\n",
    "icu_by_country = weekly_icu[['value', 'country', 'year_week']].groupby('country')\n",
    "\n",
    "\n",
    "#for country in icu_countries:\n",
    "#    icu_df = icu_by_country.get_group(country)\n",
    "    \n",
    "# icu_by_country.plot(kind='line', x='year_week', y='value') # group as title?"
   ]
  },
  {
   "cell_type": "code",
   "execution_count": 30,
   "id": "e12ff9a9",
   "metadata": {},
   "outputs": [
    {
     "data": {
      "text/html": [
       "<div>\n",
       "<style scoped>\n",
       "    .dataframe tbody tr th:only-of-type {\n",
       "        vertical-align: middle;\n",
       "    }\n",
       "\n",
       "    .dataframe tbody tr th {\n",
       "        vertical-align: top;\n",
       "    }\n",
       "\n",
       "    .dataframe thead th {\n",
       "        text-align: right;\n",
       "    }\n",
       "</style>\n",
       "<table border=\"1\" class=\"dataframe\">\n",
       "  <thead>\n",
       "    <tr style=\"text-align: right;\">\n",
       "      <th></th>\n",
       "      <th>value</th>\n",
       "      <th>country</th>\n",
       "      <th>year_week</th>\n",
       "      <th>date</th>\n",
       "    </tr>\n",
       "  </thead>\n",
       "  <tbody>\n",
       "    <tr>\n",
       "      <th>8756</th>\n",
       "      <td>200.0</td>\n",
       "      <td>Germany</td>\n",
       "      <td>2020-W12</td>\n",
       "      <td>2020-03-20</td>\n",
       "    </tr>\n",
       "    <tr>\n",
       "      <th>8757</th>\n",
       "      <td>308.0</td>\n",
       "      <td>Germany</td>\n",
       "      <td>2020-W12</td>\n",
       "      <td>2020-03-21</td>\n",
       "    </tr>\n",
       "    <tr>\n",
       "      <th>8758</th>\n",
       "      <td>364.0</td>\n",
       "      <td>Germany</td>\n",
       "      <td>2020-W12</td>\n",
       "      <td>2020-03-22</td>\n",
       "    </tr>\n",
       "    <tr>\n",
       "      <th>8759</th>\n",
       "      <td>451.0</td>\n",
       "      <td>Germany</td>\n",
       "      <td>2020-W13</td>\n",
       "      <td>2020-03-23</td>\n",
       "    </tr>\n",
       "    <tr>\n",
       "      <th>8760</th>\n",
       "      <td>616.0</td>\n",
       "      <td>Germany</td>\n",
       "      <td>2020-W13</td>\n",
       "      <td>2020-03-24</td>\n",
       "    </tr>\n",
       "  </tbody>\n",
       "</table>\n",
       "</div>"
      ],
      "text/plain": [
       "      value  country year_week        date\n",
       "8756  200.0  Germany  2020-W12  2020-03-20\n",
       "8757  308.0  Germany  2020-W12  2020-03-21\n",
       "8758  364.0  Germany  2020-W12  2020-03-22\n",
       "8759  451.0  Germany  2020-W13  2020-03-23\n",
       "8760  616.0  Germany  2020-W13  2020-03-24"
      ]
     },
     "execution_count": 30,
     "metadata": {},
     "output_type": "execute_result"
    }
   ],
   "source": [
    "# Develop Visualization which reveals Testing Strategy, Case Numbers, Deaths and Hospital Admissions\n",
    "\n",
    "# Look at Germany\n",
    "germany_hosp = hosp_by_country.get_group('Germany')\n",
    "germany_hosp.head()\n",
    "# Add Case Numbers to df\n",
    "\n"
   ]
  },
  {
   "cell_type": "code",
   "execution_count": 32,
   "id": "533d97fd",
   "metadata": {},
   "outputs": [],
   "source": [
    "cases_by_country = cases_deaths.groupby('countriesAndTerritories')"
   ]
  },
  {
   "cell_type": "markdown",
   "id": "80562cf2",
   "metadata": {},
   "source": [
    "## <u> More Ideas: </u>\n",
    "1.  <b> Hypothesis: </b> Vaccinating the Old already contributed a lot to relieve the hospitals (since serious cases were mostly among the elderly)\\\n",
    "$\\rightarrow$ If this was true we'd observe: *Normal* spreading, i.e. no anomalies in positive test rates, but decreasing fatalities/ hospitalizations\\\n",
    "2. <b> Hypothesis: </b> The Nightly Movement Restrictions (don't) help to mitigate spreading.\\\n",
    "$\\rightarrow$ Are there Compareable Bundesländer and or countries with and without nightly movement restrictions"
   ]
  },
  {
   "cell_type": "code",
   "execution_count": null,
   "id": "2800cb74",
   "metadata": {},
   "outputs": [],
   "source": []
  }
 ],
 "metadata": {
  "kernelspec": {
   "display_name": "nb",
   "language": "python",
   "name": "nb"
  },
  "language_info": {
   "codemirror_mode": {
    "name": "ipython",
    "version": 3
   },
   "file_extension": ".py",
   "mimetype": "text/x-python",
   "name": "python",
   "nbconvert_exporter": "python",
   "pygments_lexer": "ipython3",
   "version": "3.9.5"
  }
 },
 "nbformat": 4,
 "nbformat_minor": 5
}
